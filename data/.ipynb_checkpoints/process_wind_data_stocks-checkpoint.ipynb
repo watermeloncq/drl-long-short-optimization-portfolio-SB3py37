{
 "cells": [
  {
   "cell_type": "markdown",
   "id": "11ef3756",
   "metadata": {},
   "source": [
    "注：此代码仅适用于处理从WIND数据库下载的股票数据\n",
    "\n",
    "Note: This code processes stock data exclusively from the WIND database"
   ]
  },
  {
   "cell_type": "code",
   "execution_count": 1,
   "id": "28e95948",
   "metadata": {},
   "outputs": [],
   "source": [
    "import os\n",
    "import pandas as pd"
   ]
  },
  {
   "cell_type": "code",
   "execution_count": 2,
   "id": "3d77b68f",
   "metadata": {},
   "outputs": [],
   "source": [
    "# 替换为您的CSV文件所在的文件夹路径\n",
    "csv_folder_path = \"wind_data_for_process\"\n",
    "\n",
    "csv_saved_folder_path = \"china_stock\"\n",
    "# 需要删除的列名列表\n",
    "columns_to_remove = [\"代码\", \"简称\", \"前收盘价(元)\",\"成交金额(元)\",\"涨跌(元)\",\"A股流通市值(元)\",\"B股流通市值(元)\",\n",
    "                    \"总市值(元)\",\"A股流通股本(股)\",\"B股流通股本(股)\",\"总股本(股)\"]\n",
    "\n",
    "# 列名映射字典（键为原列名，值为新列名）\n",
    "column_rename_map = {\n",
    "    \"日期\": \"date\",\n",
    "    \"开盘价(元)\": \"open\",\n",
    "    \"最高价(元)\": \"high\",\n",
    "    \"最低价(元)\": \"low\",\n",
    "    \"收盘价(元)\": \"close\",\n",
    "    \"成交量(股)\": \"volume\",\n",
    "    \"涨跌幅(%)\": \"zchange\",\n",
    "    \"换手率(%)\": \"zturnover\" ,\n",
    "    \"市盈率\": \"zPER\",\n",
    "    \"市净率\": \"zPBR\",\n",
    "    \"市销率\": \"zPSR\",\n",
    "    \"市现率\": \"zPCFR\",\n",
    "    \"均价(元)\": \"zAVG\"\n",
    "}\n",
    "\n",
    "# 文件名前缀\n",
    "file_prefix = \"CN\""
   ]
  },
  {
   "cell_type": "code",
   "execution_count": 3,
   "id": "16d79b1e",
   "metadata": {},
   "outputs": [
    {
     "name": "stdout",
     "output_type": "stream",
     "text": [
      "所有CSV文件处理完成！\n"
     ]
    }
   ],
   "source": [
    "# 遍历文件夹中的所有CSV文件\n",
    "for file_name in os.listdir(csv_folder_path):\n",
    "    if file_name.endswith(\".CSV\"):\n",
    "        file_path = os.path.join(csv_folder_path, file_name)\n",
    "        \n",
    "        # 读取CSV文件\n",
    "        df = pd.read_csv(file_path, encoding='gbk')\n",
    "        \n",
    "        # 删除指定的列\n",
    "        df.drop(columns_to_remove, axis=1, inplace=True)\n",
    "        \n",
    "        # 删除含有 'Unnamed' 的所有列\n",
    "        df = df.loc[:, ~df.columns.str.startswith('Unnamed')]\n",
    "        \n",
    "        # 更改列名\n",
    "        df.rename(columns=column_rename_map, inplace=True)\n",
    "        \n",
    "        # 获取不带扩展名的文件名\n",
    "        file_name_without_extension = os.path.splitext(file_name)[0]\n",
    "        \n",
    "        # 为保存处理后的CSV文件设置新文件名和路径\n",
    "        new_file_name = f\"{file_prefix}{file_name_without_extension}.csv\"\n",
    "        saved_file_path = os.path.join(csv_saved_folder_path, new_file_name)\n",
    "        \n",
    "        # 保存处理后的CSV文件\n",
    "        df.to_csv(saved_file_path, index=False)\n",
    "\n",
    "print(\"所有CSV文件处理完成！\")"
   ]
  }
 ],
 "metadata": {
  "kernelspec": {
   "display_name": "Python 3 (ipykernel)",
   "language": "python",
   "name": "python3"
  },
  "language_info": {
   "codemirror_mode": {
    "name": "ipython",
    "version": 3
   },
   "file_extension": ".py",
   "mimetype": "text/x-python",
   "name": "python",
   "nbconvert_exporter": "python",
   "pygments_lexer": "ipython3",
   "version": "3.7.16"
  }
 },
 "nbformat": 4,
 "nbformat_minor": 5
}
